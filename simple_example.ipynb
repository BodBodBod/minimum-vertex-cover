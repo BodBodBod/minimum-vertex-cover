{
 "cells": [
  {
   "cell_type": "markdown",
   "id": "0047d60d-bda2-4ddc-af92-3ad552151a34",
   "metadata": {},
   "source": [
    "### Min Vertex Cover solution with simulated annealing"
   ]
  },
  {
   "cell_type": "code",
   "execution_count": 1,
   "id": "aa37d58a-b489-469a-b153-50e172db9194",
   "metadata": {},
   "outputs": [],
   "source": [
    "from minimum_vertex_cover import GIS_approximation, simulated_annealing"
   ]
  },
  {
   "cell_type": "code",
   "execution_count": 3,
   "id": "f5f36f6b-401a-4c36-82b5-39c8f826d5a9",
   "metadata": {},
   "outputs": [],
   "source": [
    "# the graph is defined as a dictionary {node: neighbor}\n",
    "graph = {\n",
    "    'A': ['B', 'C'],\n",
    "    'B': ['A', 'D', 'E'],\n",
    "    'C': ['A', 'F'],\n",
    "    'D': ['B', 'E'],\n",
    "    'E': ['B', 'D', 'F'],\n",
    "    'F': ['C', 'E']\n",
    "}"
   ]
  },
  {
   "cell_type": "code",
   "execution_count": 5,
   "id": "ff973aeb-d602-4c8e-bb8f-763b44d948d6",
   "metadata": {},
   "outputs": [
    {
     "data": {
      "text/plain": [
       "{'A', 'D', 'E', 'F'}"
      ]
     },
     "execution_count": 5,
     "metadata": {},
     "output_type": "execute_result"
    }
   ],
   "source": [
    "# Greedy Independent Set approximation alghoritm\n",
    "GIS_approximation(graph)"
   ]
  },
  {
   "cell_type": "code",
   "execution_count": 7,
   "id": "da853b80-0a2a-49e1-9c4d-fd5d09bf4f25",
   "metadata": {},
   "outputs": [
    {
     "data": {
      "text/plain": [
       "{'B', 'C', 'E'}"
      ]
     },
     "execution_count": 7,
     "metadata": {},
     "output_type": "execute_result"
    }
   ],
   "source": [
    "# Simulated Annealing\n",
    "simulated_annealing(\n",
    "    graph = graph,\n",
    "    initial_solution = None, # if None - used GIS approximation (above) as initial solution\n",
    "    cutoff = 100, # cutoff time in seconds\n",
    "    T = 0.05, # initial temperature\n",
    "    T_coeff = 0.8 # temperature decreasing rate\n",
    ")"
   ]
  }
 ],
 "metadata": {
  "kernelspec": {
   "display_name": "Python 3 (ipykernel)",
   "language": "python",
   "name": "python3"
  },
  "language_info": {
   "codemirror_mode": {
    "name": "ipython",
    "version": 3
   },
   "file_extension": ".py",
   "mimetype": "text/x-python",
   "name": "python",
   "nbconvert_exporter": "python",
   "pygments_lexer": "ipython3",
   "version": "3.12.7"
  }
 },
 "nbformat": 4,
 "nbformat_minor": 5
}
